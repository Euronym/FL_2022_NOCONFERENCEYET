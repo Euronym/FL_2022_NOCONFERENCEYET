{
 "cells": [
  {
   "cell_type": "markdown",
   "metadata": {},
   "source": [
    "## Dataset pre-processing for a federated approach"
   ]
  },
  {
   "cell_type": "markdown",
   "metadata": {},
   "source": [
    "In order to reproduce a federated environment where sensitive data can't be directly exchanged from a user to a cloud, we split the original dataset into multiple mini datasets where each of those represent a different user. By doing that we can emulate a federated environment with multiple devices"
   ]
  },
  {
   "cell_type": "code",
   "execution_count": null,
   "metadata": {},
   "outputs": [],
   "source": [
    "import pandas as pd \n",
    "import numpy as np\n",
    "import tensorflow as tf"
   ]
  },
  {
   "cell_type": "code",
   "execution_count": null,
   "metadata": {},
   "outputs": [],
   "source": [
    "df = pd.read_csv('datasets/original_dataset/sensors')"
   ]
  }
 ],
 "metadata": {
  "interpreter": {
   "hash": "fa2418bf25b4f92d4bdf45ebda370a3c15018760ced4b94ce9ee60330c0f808b"
  },
  "kernelspec": {
   "display_name": "Python 3.8.0 ('webmedia_fl_2022')",
   "language": "python",
   "name": "python3"
  },
  "language_info": {
   "name": "python",
   "version": "3.8.0"
  },
  "orig_nbformat": 4
 },
 "nbformat": 4,
 "nbformat_minor": 2
}
